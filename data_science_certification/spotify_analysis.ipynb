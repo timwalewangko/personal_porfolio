{
 "cells": [
  {
   "cell_type": "code",
   "execution_count": 3,
   "metadata": {},
   "outputs": [
    {
     "name": "stdout",
     "output_type": "stream",
     "text": [
      "Requirement already satisfied: numpy in c:\\users\\timwa\\onedrive\\documents\\github\\personal_porfolio\\.venv\\lib\\site-packages (1.26.2)\n",
      "Note: you may need to restart the kernel to use updated packages.\n",
      "Requirement already satisfied: pandas in c:\\users\\timwa\\onedrive\\documents\\github\\personal_porfolio\\.venv\\lib\\site-packages (2.1.3)\n",
      "Requirement already satisfied: numpy<2,>=1.23.2 in c:\\users\\timwa\\onedrive\\documents\\github\\personal_porfolio\\.venv\\lib\\site-packages (from pandas) (1.26.2)\n",
      "Requirement already satisfied: python-dateutil>=2.8.2 in c:\\users\\timwa\\onedrive\\documents\\github\\personal_porfolio\\.venv\\lib\\site-packages (from pandas) (2.8.2)\n",
      "Requirement already satisfied: pytz>=2020.1 in c:\\users\\timwa\\onedrive\\documents\\github\\personal_porfolio\\.venv\\lib\\site-packages (from pandas) (2023.3.post1)\n",
      "Requirement already satisfied: tzdata>=2022.1 in c:\\users\\timwa\\onedrive\\documents\\github\\personal_porfolio\\.venv\\lib\\site-packages (from pandas) (2023.3)\n",
      "Requirement already satisfied: six>=1.5 in c:\\users\\timwa\\onedrive\\documents\\github\\personal_porfolio\\.venv\\lib\\site-packages (from python-dateutil>=2.8.2->pandas) (1.16.0)\n",
      "Note: you may need to restart the kernel to use updated packages.\n",
      "Requirement already satisfied: scipy in c:\\users\\timwa\\onedrive\\documents\\github\\personal_porfolio\\.venv\\lib\\site-packages (1.11.3)\n",
      "Requirement already satisfied: numpy<1.28.0,>=1.21.6 in c:\\users\\timwa\\onedrive\\documents\\github\\personal_porfolio\\.venv\\lib\\site-packages (from scipy) (1.26.2)\n",
      "Note: you may need to restart the kernel to use updated packages.\n",
      "Requirement already satisfied: seaborn in c:\\users\\timwa\\onedrive\\documents\\github\\personal_porfolio\\.venv\\lib\\site-packages (0.13.0)\n",
      "Requirement already satisfied: numpy!=1.24.0,>=1.20 in c:\\users\\timwa\\onedrive\\documents\\github\\personal_porfolio\\.venv\\lib\\site-packages (from seaborn) (1.26.2)\n",
      "Requirement already satisfied: pandas>=1.2 in c:\\users\\timwa\\onedrive\\documents\\github\\personal_porfolio\\.venv\\lib\\site-packages (from seaborn) (2.1.3)\n",
      "Requirement already satisfied: matplotlib!=3.6.1,>=3.3 in c:\\users\\timwa\\onedrive\\documents\\github\\personal_porfolio\\.venv\\lib\\site-packages (from seaborn) (3.8.1)\n",
      "Requirement already satisfied: contourpy>=1.0.1 in c:\\users\\timwa\\onedrive\\documents\\github\\personal_porfolio\\.venv\\lib\\site-packages (from matplotlib!=3.6.1,>=3.3->seaborn) (1.2.0)\n",
      "Requirement already satisfied: cycler>=0.10 in c:\\users\\timwa\\onedrive\\documents\\github\\personal_porfolio\\.venv\\lib\\site-packages (from matplotlib!=3.6.1,>=3.3->seaborn) (0.12.1)\n",
      "Requirement already satisfied: fonttools>=4.22.0 in c:\\users\\timwa\\onedrive\\documents\\github\\personal_porfolio\\.venv\\lib\\site-packages (from matplotlib!=3.6.1,>=3.3->seaborn) (4.44.3)\n",
      "Requirement already satisfied: kiwisolver>=1.3.1 in c:\\users\\timwa\\onedrive\\documents\\github\\personal_porfolio\\.venv\\lib\\site-packages (from matplotlib!=3.6.1,>=3.3->seaborn) (1.4.5)\n",
      "Requirement already satisfied: packaging>=20.0 in c:\\users\\timwa\\onedrive\\documents\\github\\personal_porfolio\\.venv\\lib\\site-packages (from matplotlib!=3.6.1,>=3.3->seaborn) (23.2)\n",
      "Requirement already satisfied: pillow>=8 in c:\\users\\timwa\\onedrive\\documents\\github\\personal_porfolio\\.venv\\lib\\site-packages (from matplotlib!=3.6.1,>=3.3->seaborn) (10.1.0)\n",
      "Requirement already satisfied: pyparsing>=2.3.1 in c:\\users\\timwa\\onedrive\\documents\\github\\personal_porfolio\\.venv\\lib\\site-packages (from matplotlib!=3.6.1,>=3.3->seaborn) (3.1.1)\n",
      "Requirement already satisfied: python-dateutil>=2.7 in c:\\users\\timwa\\onedrive\\documents\\github\\personal_porfolio\\.venv\\lib\\site-packages (from matplotlib!=3.6.1,>=3.3->seaborn) (2.8.2)\n",
      "Requirement already satisfied: pytz>=2020.1 in c:\\users\\timwa\\onedrive\\documents\\github\\personal_porfolio\\.venv\\lib\\site-packages (from pandas>=1.2->seaborn) (2023.3.post1)\n",
      "Requirement already satisfied: tzdata>=2022.1 in c:\\users\\timwa\\onedrive\\documents\\github\\personal_porfolio\\.venv\\lib\\site-packages (from pandas>=1.2->seaborn) (2023.3)\n",
      "Requirement already satisfied: six>=1.5 in c:\\users\\timwa\\onedrive\\documents\\github\\personal_porfolio\\.venv\\lib\\site-packages (from python-dateutil>=2.7->matplotlib!=3.6.1,>=3.3->seaborn) (1.16.0)\n",
      "Note: you may need to restart the kernel to use updated packages.\n",
      "Collecting scikit-learn\n",
      "  Downloading scikit_learn-1.3.2-cp311-cp311-win_amd64.whl.metadata (11 kB)\n",
      "Requirement already satisfied: numpy<2.0,>=1.17.3 in c:\\users\\timwa\\onedrive\\documents\\github\\personal_porfolio\\.venv\\lib\\site-packages (from scikit-learn) (1.26.2)\n",
      "Requirement already satisfied: scipy>=1.5.0 in c:\\users\\timwa\\onedrive\\documents\\github\\personal_porfolio\\.venv\\lib\\site-packages (from scikit-learn) (1.11.3)\n",
      "Collecting joblib>=1.1.1 (from scikit-learn)\n",
      "  Downloading joblib-1.3.2-py3-none-any.whl.metadata (5.4 kB)\n",
      "Collecting threadpoolctl>=2.0.0 (from scikit-learn)\n",
      "  Downloading threadpoolctl-3.2.0-py3-none-any.whl.metadata (10.0 kB)\n",
      "Downloading scikit_learn-1.3.2-cp311-cp311-win_amd64.whl (9.2 MB)\n",
      "   ---------------------------------------- 0.0/9.2 MB ? eta -:--:--\n",
      "    --------------------------------------- 0.2/9.2 MB 3.1 MB/s eta 0:00:03\n",
      "   -- ------------------------------------- 0.6/9.2 MB 6.4 MB/s eta 0:00:02\n",
      "   ---- ----------------------------------- 1.1/9.2 MB 8.9 MB/s eta 0:00:01\n",
      "   ------- -------------------------------- 1.7/9.2 MB 8.9 MB/s eta 0:00:01\n",
      "   --------- ------------------------------ 2.2/9.2 MB 9.5 MB/s eta 0:00:01\n",
      "   ------------ --------------------------- 2.9/9.2 MB 10.3 MB/s eta 0:00:01\n",
      "   --------------- ------------------------ 3.6/9.2 MB 11.0 MB/s eta 0:00:01\n",
      "   ------------------- -------------------- 4.5/9.2 MB 11.9 MB/s eta 0:00:01\n",
      "   ----------------------- ---------------- 5.4/9.2 MB 12.7 MB/s eta 0:00:01\n",
      "   -------------------------- ------------- 6.2/9.2 MB 13.2 MB/s eta 0:00:01\n",
      "   ------------------------------- -------- 7.2/9.2 MB 14.0 MB/s eta 0:00:01\n",
      "   ------------------------------------ --- 8.4/9.2 MB 15.0 MB/s eta 0:00:01\n",
      "   ---------------------------------------  9.2/9.2 MB 15.5 MB/s eta 0:00:01\n",
      "   ---------------------------------------- 9.2/9.2 MB 15.1 MB/s eta 0:00:00\n",
      "Downloading joblib-1.3.2-py3-none-any.whl (302 kB)\n",
      "   ---------------------------------------- 0.0/302.2 kB ? eta -:--:--\n",
      "   ---------------------------------------- 302.2/302.2 kB ? eta 0:00:00\n",
      "Downloading threadpoolctl-3.2.0-py3-none-any.whl (15 kB)\n",
      "Installing collected packages: threadpoolctl, joblib, scikit-learn\n",
      "Successfully installed joblib-1.3.2 scikit-learn-1.3.2 threadpoolctl-3.2.0\n",
      "Note: you may need to restart the kernel to use updated packages.\n"
     ]
    }
   ],
   "source": [
    "%pip install numpy\n",
    "%pip install pandas\n",
    "%pip install scipy\n",
    "%pip install seaborn\n",
    "%pip install scikit-learn"
   ]
  },
  {
   "cell_type": "code",
   "execution_count": 1,
   "metadata": {},
   "outputs": [],
   "source": [
    "import numpy as np\n",
    "import pandas as pd\n",
    "from scipy.stats.mstats import winsorize\n",
    "import matplotlib.pyplot as plt\n",
    "import seaborn as sns\n",
    "from sklearn.preprocessing import StandardScaler\n",
    "from sklearn.metrics import r2_score\n",
    "\n",
    "\n",
    "import warnings\n",
    "warnings.filterwarnings(\"ignore\")"
   ]
  },
  {
   "cell_type": "code",
   "execution_count": 3,
   "metadata": {},
   "outputs": [],
   "source": [
    "stream_path = ('spotify-2023.csv')\n",
    "streams = pd.read_csv(\n",
    "    stream_path,\n",
    "    quotechar='\"',\n",
    "    encoding = 'ISO-8859-1',\n",
    "    thousands=','\n",
    "    )"
   ]
  },
  {
   "cell_type": "markdown",
   "metadata": {},
   "source": [
    "# Supervised learning excercise\n",
    "\n",
    "Dataset of interest: Spotify streaming data  \n",
    "Source: [Kaggle.com](https://www.kaggle.com/datasets/nelgiriyewithana/top-spotify-songs-2023?resource=download)  \n",
    "Goal: The goal is to attempt to model streams from the underlying features of a song. This will be done in hopes of creating music that will be more commercially popular than average.  \n",
    "Description (from source): \n",
    ">This dataset contains a comprehensive list of the most famous songs of 2023 as listed on Spotify. The dataset offers a wealth of features beyond what is typically available in similar datasets. It provides insights into each song's attributes, popularity, and presence on various music platforms. The dataset includes information such as track name, artist(s) name, release date, Spotify playlists and charts, streaming statistics, Apple Music presence, Deezer presence, Shazam charts, and various audio features.  \n",
    "\n",
    "Further description of columns in dataset:  \n",
    "- track_name: Name of the song  \n",
    "- artist(s)_name: Name of the artist(s) of the song  \n",
    "- artist_count: Number of artists contributing to the song  \n",
    "- released_year: Year when the song was released  \n",
    "- released_month: Month when the song was released  \n",
    "- released_day: Day of the month when the song was released  \n",
    "- in_spotify_playlists: Number of Spotify playlists the song is included in  \n",
    "- in_spotify_charts: Presence and rank of the song on Spotify charts  \n",
    "- streams: Total number of streams on Spotify  \n",
    "- in_apple_playlists: Number of Apple Music playlists the song is included in  \n",
    "- in_apple_charts: Presence and rank of the song on Apple Music charts  \n",
    "- in_deezer_playlists: Number of Deezer playlists the song is included in  \n",
    "- in_deezer_charts: Presence and rank of the song on Deezer charts  \n",
    "- in_shazam_charts: Presence and rank of the song on Shazam charts  \n",
    "- bpm: Beats per minute, a measure of song tempo  \n",
    "- key: Key of the song  \n",
    "- mode: Mode of the song (major or minor)\n",
    "- danceability_%: Percentage indicating how suitable the song is for dancing  \n",
    "- valence_%: Positivity of the song's musical content  \n",
    "- energy_%: Perceived energy level of the song  \n",
    "- acousticness_%: Amount of acoustic sound in the song  \n",
    "- instrumentalness_%: Amount of instrumental content in the song  \n",
    "- liveness_%: Presence of live performance elements  \n",
    "- speechiness_%: Amount of spoken words in the song  "
   ]
  },
  {
   "cell_type": "markdown",
   "metadata": {},
   "source": [
    "### Lets begin by removing nulls and data that doesnt make sense. Here we can assume streams should be a number, therefore we drop rows with a non-numeric value for streams. It turns out there is a problem with a corrupted row in the file."
   ]
  },
  {
   "cell_type": "code",
   "execution_count": 4,
   "metadata": {},
   "outputs": [
    {
     "name": "stdout",
     "output_type": "stream",
     "text": [
      "574    BPM110KeyAModeMajorDanceability53Valence75Ener...\n",
      "Name: streams, dtype: object\n"
     ]
    },
    {
     "data": {
      "text/html": [
       "<div>\n",
       "<style scoped>\n",
       "    .dataframe tbody tr th:only-of-type {\n",
       "        vertical-align: middle;\n",
       "    }\n",
       "\n",
       "    .dataframe tbody tr th {\n",
       "        vertical-align: top;\n",
       "    }\n",
       "\n",
       "    .dataframe thead th {\n",
       "        text-align: right;\n",
       "    }\n",
       "</style>\n",
       "<table border=\"1\" class=\"dataframe\">\n",
       "  <thead>\n",
       "    <tr style=\"text-align: right;\">\n",
       "      <th></th>\n",
       "      <th>track_name</th>\n",
       "      <th>artist(s)_name</th>\n",
       "      <th>artist_count</th>\n",
       "      <th>released_year</th>\n",
       "      <th>released_month</th>\n",
       "      <th>released_day</th>\n",
       "      <th>in_spotify_playlists</th>\n",
       "      <th>in_spotify_charts</th>\n",
       "      <th>streams</th>\n",
       "      <th>in_apple_playlists</th>\n",
       "      <th>...</th>\n",
       "      <th>bpm</th>\n",
       "      <th>key</th>\n",
       "      <th>mode</th>\n",
       "      <th>danceability_%</th>\n",
       "      <th>valence_%</th>\n",
       "      <th>energy_%</th>\n",
       "      <th>acousticness_%</th>\n",
       "      <th>instrumentalness_%</th>\n",
       "      <th>liveness_%</th>\n",
       "      <th>speechiness_%</th>\n",
       "    </tr>\n",
       "  </thead>\n",
       "  <tbody>\n",
       "    <tr>\n",
       "      <th>574</th>\n",
       "      <td>Love Grows (Where My Rosemary Goes)</td>\n",
       "      <td>Edison Lighthouse</td>\n",
       "      <td>1</td>\n",
       "      <td>1970</td>\n",
       "      <td>1</td>\n",
       "      <td>1</td>\n",
       "      <td>2877</td>\n",
       "      <td>0</td>\n",
       "      <td>BPM110KeyAModeMajorDanceability53Valence75Ener...</td>\n",
       "      <td>16</td>\n",
       "      <td>...</td>\n",
       "      <td>110</td>\n",
       "      <td>A</td>\n",
       "      <td>Major</td>\n",
       "      <td>53</td>\n",
       "      <td>75</td>\n",
       "      <td>69</td>\n",
       "      <td>7</td>\n",
       "      <td>0</td>\n",
       "      <td>17</td>\n",
       "      <td>3</td>\n",
       "    </tr>\n",
       "    <tr>\n",
       "      <th>575</th>\n",
       "      <td>LA FAMA (with The Weeknd)</td>\n",
       "      <td>The Weeknd, ROSALï¿½</td>\n",
       "      <td>2</td>\n",
       "      <td>2021</td>\n",
       "      <td>11</td>\n",
       "      <td>11</td>\n",
       "      <td>4640</td>\n",
       "      <td>3</td>\n",
       "      <td>374706940</td>\n",
       "      <td>81</td>\n",
       "      <td>...</td>\n",
       "      <td>136</td>\n",
       "      <td>NaN</td>\n",
       "      <td>Minor</td>\n",
       "      <td>77</td>\n",
       "      <td>82</td>\n",
       "      <td>30</td>\n",
       "      <td>95</td>\n",
       "      <td>0</td>\n",
       "      <td>13</td>\n",
       "      <td>5</td>\n",
       "    </tr>\n",
       "    <tr>\n",
       "      <th>576</th>\n",
       "      <td>The Family Madrigal</td>\n",
       "      <td>Olga Merediz, Stephanie Beatriz, Encanto - Cast</td>\n",
       "      <td>3</td>\n",
       "      <td>2021</td>\n",
       "      <td>11</td>\n",
       "      <td>19</td>\n",
       "      <td>1150</td>\n",
       "      <td>0</td>\n",
       "      <td>184937148</td>\n",
       "      <td>20</td>\n",
       "      <td>...</td>\n",
       "      <td>141</td>\n",
       "      <td>C#</td>\n",
       "      <td>Major</td>\n",
       "      <td>59</td>\n",
       "      <td>56</td>\n",
       "      <td>63</td>\n",
       "      <td>12</td>\n",
       "      <td>0</td>\n",
       "      <td>6</td>\n",
       "      <td>36</td>\n",
       "    </tr>\n",
       "    <tr>\n",
       "      <th>577</th>\n",
       "      <td>Phantom Regret by Jim</td>\n",
       "      <td>The Weeknd</td>\n",
       "      <td>1</td>\n",
       "      <td>2022</td>\n",
       "      <td>1</td>\n",
       "      <td>7</td>\n",
       "      <td>768</td>\n",
       "      <td>0</td>\n",
       "      <td>31959571</td>\n",
       "      <td>1</td>\n",
       "      <td>...</td>\n",
       "      <td>108</td>\n",
       "      <td>A</td>\n",
       "      <td>Minor</td>\n",
       "      <td>46</td>\n",
       "      <td>23</td>\n",
       "      <td>48</td>\n",
       "      <td>75</td>\n",
       "      <td>30</td>\n",
       "      <td>14</td>\n",
       "      <td>4</td>\n",
       "    </tr>\n",
       "    <tr>\n",
       "      <th>578</th>\n",
       "      <td>Dos Oruguitas</td>\n",
       "      <td>Sebastian Yatra</td>\n",
       "      <td>1</td>\n",
       "      <td>2021</td>\n",
       "      <td>11</td>\n",
       "      <td>19</td>\n",
       "      <td>925</td>\n",
       "      <td>0</td>\n",
       "      <td>167076418</td>\n",
       "      <td>24</td>\n",
       "      <td>...</td>\n",
       "      <td>94</td>\n",
       "      <td>NaN</td>\n",
       "      <td>Major</td>\n",
       "      <td>42</td>\n",
       "      <td>47</td>\n",
       "      <td>36</td>\n",
       "      <td>76</td>\n",
       "      <td>0</td>\n",
       "      <td>9</td>\n",
       "      <td>5</td>\n",
       "    </tr>\n",
       "    <tr>\n",
       "      <th>...</th>\n",
       "      <td>...</td>\n",
       "      <td>...</td>\n",
       "      <td>...</td>\n",
       "      <td>...</td>\n",
       "      <td>...</td>\n",
       "      <td>...</td>\n",
       "      <td>...</td>\n",
       "      <td>...</td>\n",
       "      <td>...</td>\n",
       "      <td>...</td>\n",
       "      <td>...</td>\n",
       "      <td>...</td>\n",
       "      <td>...</td>\n",
       "      <td>...</td>\n",
       "      <td>...</td>\n",
       "      <td>...</td>\n",
       "      <td>...</td>\n",
       "      <td>...</td>\n",
       "      <td>...</td>\n",
       "      <td>...</td>\n",
       "      <td>...</td>\n",
       "    </tr>\n",
       "    <tr>\n",
       "      <th>948</th>\n",
       "      <td>My Mind &amp; Me</td>\n",
       "      <td>Selena Gomez</td>\n",
       "      <td>1</td>\n",
       "      <td>2022</td>\n",
       "      <td>11</td>\n",
       "      <td>3</td>\n",
       "      <td>953</td>\n",
       "      <td>0</td>\n",
       "      <td>91473363</td>\n",
       "      <td>61</td>\n",
       "      <td>...</td>\n",
       "      <td>144</td>\n",
       "      <td>A</td>\n",
       "      <td>Major</td>\n",
       "      <td>60</td>\n",
       "      <td>24</td>\n",
       "      <td>39</td>\n",
       "      <td>57</td>\n",
       "      <td>0</td>\n",
       "      <td>8</td>\n",
       "      <td>3</td>\n",
       "    </tr>\n",
       "    <tr>\n",
       "      <th>949</th>\n",
       "      <td>Bigger Than The Whole Sky</td>\n",
       "      <td>Taylor Swift</td>\n",
       "      <td>1</td>\n",
       "      <td>2022</td>\n",
       "      <td>10</td>\n",
       "      <td>21</td>\n",
       "      <td>1180</td>\n",
       "      <td>0</td>\n",
       "      <td>121871870</td>\n",
       "      <td>4</td>\n",
       "      <td>...</td>\n",
       "      <td>166</td>\n",
       "      <td>F#</td>\n",
       "      <td>Major</td>\n",
       "      <td>42</td>\n",
       "      <td>7</td>\n",
       "      <td>24</td>\n",
       "      <td>83</td>\n",
       "      <td>1</td>\n",
       "      <td>12</td>\n",
       "      <td>6</td>\n",
       "    </tr>\n",
       "    <tr>\n",
       "      <th>950</th>\n",
       "      <td>A Veces (feat. Feid)</td>\n",
       "      <td>Feid, Paulo Londra</td>\n",
       "      <td>2</td>\n",
       "      <td>2022</td>\n",
       "      <td>11</td>\n",
       "      <td>3</td>\n",
       "      <td>573</td>\n",
       "      <td>0</td>\n",
       "      <td>73513683</td>\n",
       "      <td>2</td>\n",
       "      <td>...</td>\n",
       "      <td>92</td>\n",
       "      <td>C#</td>\n",
       "      <td>Major</td>\n",
       "      <td>80</td>\n",
       "      <td>81</td>\n",
       "      <td>67</td>\n",
       "      <td>4</td>\n",
       "      <td>0</td>\n",
       "      <td>8</td>\n",
       "      <td>6</td>\n",
       "    </tr>\n",
       "    <tr>\n",
       "      <th>951</th>\n",
       "      <td>En La De Ella</td>\n",
       "      <td>Feid, Sech, Jhayco</td>\n",
       "      <td>3</td>\n",
       "      <td>2022</td>\n",
       "      <td>10</td>\n",
       "      <td>20</td>\n",
       "      <td>1320</td>\n",
       "      <td>0</td>\n",
       "      <td>133895612</td>\n",
       "      <td>29</td>\n",
       "      <td>...</td>\n",
       "      <td>97</td>\n",
       "      <td>C#</td>\n",
       "      <td>Major</td>\n",
       "      <td>82</td>\n",
       "      <td>67</td>\n",
       "      <td>77</td>\n",
       "      <td>8</td>\n",
       "      <td>0</td>\n",
       "      <td>12</td>\n",
       "      <td>5</td>\n",
       "    </tr>\n",
       "    <tr>\n",
       "      <th>952</th>\n",
       "      <td>Alone</td>\n",
       "      <td>Burna Boy</td>\n",
       "      <td>1</td>\n",
       "      <td>2022</td>\n",
       "      <td>11</td>\n",
       "      <td>4</td>\n",
       "      <td>782</td>\n",
       "      <td>2</td>\n",
       "      <td>96007391</td>\n",
       "      <td>27</td>\n",
       "      <td>...</td>\n",
       "      <td>90</td>\n",
       "      <td>E</td>\n",
       "      <td>Minor</td>\n",
       "      <td>61</td>\n",
       "      <td>32</td>\n",
       "      <td>67</td>\n",
       "      <td>15</td>\n",
       "      <td>0</td>\n",
       "      <td>11</td>\n",
       "      <td>5</td>\n",
       "    </tr>\n",
       "  </tbody>\n",
       "</table>\n",
       "<p>379 rows × 24 columns</p>\n",
       "</div>"
      ],
      "text/plain": [
       "                              track_name  \\\n",
       "574  Love Grows (Where My Rosemary Goes)   \n",
       "575            LA FAMA (with The Weeknd)   \n",
       "576                  The Family Madrigal   \n",
       "577                Phantom Regret by Jim   \n",
       "578                        Dos Oruguitas   \n",
       "..                                   ...   \n",
       "948                         My Mind & Me   \n",
       "949            Bigger Than The Whole Sky   \n",
       "950                 A Veces (feat. Feid)   \n",
       "951                        En La De Ella   \n",
       "952                                Alone   \n",
       "\n",
       "                                      artist(s)_name  artist_count  \\\n",
       "574                                Edison Lighthouse             1   \n",
       "575                             The Weeknd, ROSALï¿½             2   \n",
       "576  Olga Merediz, Stephanie Beatriz, Encanto - Cast             3   \n",
       "577                                       The Weeknd             1   \n",
       "578                                  Sebastian Yatra             1   \n",
       "..                                               ...           ...   \n",
       "948                                     Selena Gomez             1   \n",
       "949                                     Taylor Swift             1   \n",
       "950                               Feid, Paulo Londra             2   \n",
       "951                               Feid, Sech, Jhayco             3   \n",
       "952                                        Burna Boy             1   \n",
       "\n",
       "     released_year  released_month  released_day  in_spotify_playlists  \\\n",
       "574           1970               1             1                  2877   \n",
       "575           2021              11            11                  4640   \n",
       "576           2021              11            19                  1150   \n",
       "577           2022               1             7                   768   \n",
       "578           2021              11            19                   925   \n",
       "..             ...             ...           ...                   ...   \n",
       "948           2022              11             3                   953   \n",
       "949           2022              10            21                  1180   \n",
       "950           2022              11             3                   573   \n",
       "951           2022              10            20                  1320   \n",
       "952           2022              11             4                   782   \n",
       "\n",
       "     in_spotify_charts                                            streams  \\\n",
       "574                  0  BPM110KeyAModeMajorDanceability53Valence75Ener...   \n",
       "575                  3                                          374706940   \n",
       "576                  0                                          184937148   \n",
       "577                  0                                           31959571   \n",
       "578                  0                                          167076418   \n",
       "..                 ...                                                ...   \n",
       "948                  0                                           91473363   \n",
       "949                  0                                          121871870   \n",
       "950                  0                                           73513683   \n",
       "951                  0                                          133895612   \n",
       "952                  2                                           96007391   \n",
       "\n",
       "     in_apple_playlists  ...  bpm  key   mode  danceability_%  valence_%  \\\n",
       "574                  16  ...  110    A  Major              53         75   \n",
       "575                  81  ...  136  NaN  Minor              77         82   \n",
       "576                  20  ...  141   C#  Major              59         56   \n",
       "577                   1  ...  108    A  Minor              46         23   \n",
       "578                  24  ...   94  NaN  Major              42         47   \n",
       "..                  ...  ...  ...  ...    ...             ...        ...   \n",
       "948                  61  ...  144    A  Major              60         24   \n",
       "949                   4  ...  166   F#  Major              42          7   \n",
       "950                   2  ...   92   C#  Major              80         81   \n",
       "951                  29  ...   97   C#  Major              82         67   \n",
       "952                  27  ...   90    E  Minor              61         32   \n",
       "\n",
       "    energy_% acousticness_%  instrumentalness_%  liveness_%  speechiness_%  \n",
       "574       69              7                   0          17              3  \n",
       "575       30             95                   0          13              5  \n",
       "576       63             12                   0           6             36  \n",
       "577       48             75                  30          14              4  \n",
       "578       36             76                   0           9              5  \n",
       "..       ...            ...                 ...         ...            ...  \n",
       "948       39             57                   0           8              3  \n",
       "949       24             83                   1          12              6  \n",
       "950       67              4                   0           8              6  \n",
       "951       77              8                   0          12              5  \n",
       "952       67             15                   0          11              5  \n",
       "\n",
       "[379 rows x 24 columns]"
      ]
     },
     "execution_count": 4,
     "metadata": {},
     "output_type": "execute_result"
    }
   ],
   "source": [
    "print(streams[~streams['streams'].str.isnumeric()]['streams'])\n",
    "streams.iloc[574:, :]"
   ]
  },
  {
   "cell_type": "markdown",
   "metadata": {},
   "source": [
    "### It looks like this row does not impact the rows after. (i.e. It isnt a csv problem where the columns shift due to something like a missing comma).  \n",
    "### It also looks like the data in the streams column is repeated correctly in the following columns. Lets drop the row that is missing our target variable."
   ]
  },
  {
   "cell_type": "code",
   "execution_count": 5,
   "metadata": {},
   "outputs": [
    {
     "name": "stdout",
     "output_type": "stream",
     "text": [
      "Rows prior to removing nulls: 953\n",
      "Rows after removing nulls: 817\n",
      "Rows after removing non numeric stream rows: 816\n"
     ]
    }
   ],
   "source": [
    "print(f'Rows prior to removing nulls: {len(streams)}')\n",
    "\n",
    "streams.isnull().sum()\n",
    "# about 10% of 'key' column is null\n",
    "# also 5% of the key column\n",
    "data_non_null = streams.dropna()\n",
    "\n",
    "print(f'Rows after removing nulls: {len(data_non_null)}')\n",
    "\n",
    "data_non_null = data_non_null[data_non_null['streams'].str.isnumeric()]\n",
    "\n",
    "print(f'Rows after removing non numeric stream rows: {len(data_non_null)}')"
   ]
  },
  {
   "cell_type": "markdown",
   "metadata": {},
   "source": [
    "### After further exploration, it looks like we have to turn the streams column into a numeric column, lets take care of that right now."
   ]
  },
  {
   "cell_type": "code",
   "execution_count": 6,
   "metadata": {},
   "outputs": [
    {
     "name": "stdout",
     "output_type": "stream",
     "text": [
      "<class 'pandas.core.frame.DataFrame'>\n",
      "Index: 816 entries, 0 to 952\n",
      "Data columns (total 24 columns):\n",
      " #   Column                Non-Null Count  Dtype  \n",
      "---  ------                --------------  -----  \n",
      " 0   track_name            816 non-null    object \n",
      " 1   artist(s)_name        816 non-null    object \n",
      " 2   artist_count          816 non-null    int64  \n",
      " 3   released_year         816 non-null    int64  \n",
      " 4   released_month        816 non-null    int64  \n",
      " 5   released_day          816 non-null    int64  \n",
      " 6   in_spotify_playlists  816 non-null    int64  \n",
      " 7   in_spotify_charts     816 non-null    int64  \n",
      " 8   streams               816 non-null    object \n",
      " 9   in_apple_playlists    816 non-null    int64  \n",
      " 10  in_apple_charts       816 non-null    int64  \n",
      " 11  in_deezer_playlists   816 non-null    int64  \n",
      " 12  in_deezer_charts      816 non-null    int64  \n",
      " 13  in_shazam_charts      816 non-null    float64\n",
      " 14  bpm                   816 non-null    int64  \n",
      " 15  key                   816 non-null    object \n",
      " 16  mode                  816 non-null    object \n",
      " 17  danceability_%        816 non-null    int64  \n",
      " 18  valence_%             816 non-null    int64  \n",
      " 19  energy_%              816 non-null    int64  \n",
      " 20  acousticness_%        816 non-null    int64  \n",
      " 21  instrumentalness_%    816 non-null    int64  \n",
      " 22  liveness_%            816 non-null    int64  \n",
      " 23  speechiness_%         816 non-null    int64  \n",
      "dtypes: float64(1), int64(18), object(5)\n",
      "memory usage: 159.4+ KB\n"
     ]
    }
   ],
   "source": [
    "data_non_null.info()"
   ]
  },
  {
   "cell_type": "code",
   "execution_count": 7,
   "metadata": {},
   "outputs": [],
   "source": [
    "data_non_null = data_non_null.astype(\n",
    "    {\n",
    "        'streams':'int64',\n",
    "        'in_shazam_charts':int\n",
    "    }\n",
    ")"
   ]
  },
  {
   "cell_type": "markdown",
   "metadata": {},
   "source": [
    "### Looks like the preliminary data-cleaning is complete. Columns are showing expected numbers, with expected data types. Time to go deeper and see if the data is fit for statistical tests."
   ]
  },
  {
   "cell_type": "markdown",
   "metadata": {},
   "source": [
    "## Normal distribution for target variable  \n",
    "We can work on making the target variable as close to a normal distribution as possible"
   ]
  },
  {
   "cell_type": "code",
   "execution_count": 8,
   "metadata": {},
   "outputs": [
    {
     "data": {
      "text/plain": [
       "Text(0.5, 1.0, 'Streams Distribution')"
      ]
     },
     "execution_count": 8,
     "metadata": {},
     "output_type": "execute_result"
    },
    {
     "data": {
      "image/png": "[encoded data removed]",
      "text/plain": [
       "<Figure size 640x480 with 1 Axes>"
      ]
     },
     "metadata": {},
     "output_type": "display_data"
    }
   ],
   "source": [
    "sns.histplot(data_non_null['streams'], bins=50).set_title('Streams Distribution')"
   ]
  },
  {
   "cell_type": "markdown",
   "metadata": {},
   "source": [
    "This looks heavily skewed, taking the log of the target variable can fix this."
   ]
  },
  {
   "cell_type": "code",
   "execution_count": 9,
   "metadata": {},
   "outputs": [
    {
     "data": {
      "text/plain": [
       "Text(0.5, 1.0, 'Distribution of Log Streams')"
      ]
     },
     "execution_count": 9,
     "metadata": {},
     "output_type": "execute_result"
    },
    {
     "data": {
      "image/png": "[encoded data removed]",
      "text/plain": [
       "<Figure size 640x480 with 1 Axes>"
      ]
     },
     "metadata": {},
     "output_type": "display_data"
    }
   ],
   "source": [
    "sns.histplot(np.log(data_non_null['streams']), bins=25).set_title('Distribution of Log Streams')"
   ]
  },
  {
   "cell_type": "code",
   "execution_count": 10,
   "metadata": {},
   "outputs": [],
   "source": [
    "data_non_null.loc[:, 'streams'] = data_non_null.loc[:, 'streams'].apply(np.log)"
   ]
  },
  {
   "cell_type": "markdown",
   "metadata": {},
   "source": [
    "Much better, now we can take care of the outliers on the lower end."
   ]
  },
  {
   "cell_type": "code",
   "execution_count": 11,
   "metadata": {},
   "outputs": [
    {
     "data": {
      "image/png": "[encoded data removed]",
      "text/plain": [
       "<Figure size 640x480 with 2 Axes>"
      ]
     },
     "metadata": {},
     "output_type": "display_data"
    }
   ],
   "source": [
    "fig, ax = plt.subplots(1, 2)\n",
    "\n",
    "fig.suptitle('Winsorize, Before and After')\n",
    "sns.boxplot(data_non_null['streams'], ax=ax[0]).set_title('Before')\n",
    "sns.boxplot(winsorize(data_non_null['streams'],(0.01,0)), ax=ax[1]).set_title('After')\n",
    "\n",
    "\n",
    "data_non_null.loc[:, 'streams'] = winsorize(data_non_null['streams'],(0.01,0))"
   ]
  },
  {
   "cell_type": "code",
   "execution_count": 12,
   "metadata": {},
   "outputs": [
    {
     "data": {
      "text/plain": [
       "Text(0.5, 1.0, 'Cleaned Target Variable \"Streams\"')"
      ]
     },
     "execution_count": 12,
     "metadata": {},
     "output_type": "execute_result"
    },
    {
     "data": {
      "image/png": "[encoded data removed]",
      "text/plain": [
       "<Figure size 640x480 with 1 Axes>"
      ]
     },
     "metadata": {},
     "output_type": "display_data"
    }
   ],
   "source": [
    "sns.histplot(data_non_null['streams'], bins=25).set_title('Cleaned Target Variable \"Streams\"')"
   ]
  },
  {
   "cell_type": "markdown",
   "metadata": {},
   "source": [
    "# Feature selection"
   ]
  },
  {
   "cell_type": "markdown",
   "metadata": {},
   "source": [
    "There are a couple steps which will be done all at once below:\n",
    "- Create bins for continuous target variable, this will allow us to use logistic regression\n",
    "- Create dummies for the categorical columns that we wish to keep\n",
    "- Remove non-numeric columns that are not needed\n",
    "- Reduce features that are not independent\n",
    "    - Features such as chart ratings and playlist counts cannot be influenced prior to releasing a song, and therefore will  be left out of the model. This ties back to the main goal of this model, which is to statistically create songs that are more likely to have more streams than average\n",
    "- Use standard scaler to scale the features"
   ]
  },
  {
   "cell_type": "code",
   "execution_count": 13,
   "metadata": {},
   "outputs": [],
   "source": [
    "# lets create a new target feature to test model\n",
    "data_non_null['streams_bin'] = pd.cut(data_non_null['streams'], 2, labels=('low','high'))\n",
    "\n",
    "# we can make dummies for some of these columns\n",
    "data_non_null = pd.concat(\n",
    "    (data_non_null.drop(columns=['key','mode']),\n",
    "     pd.get_dummies(data_non_null[['key', 'mode']], drop_first=True, dtype='int')), axis=1)\n",
    "\n",
    "# need only numeric columns for regression, so lets separate\n",
    "clean_numeric = data_non_null.select_dtypes(include='number')\n",
    "\n",
    "# lets reduce to features that describe the song\n",
    "# for example, if we want to create a new song, we cannot decide if it will be in playlists or in charts\n",
    "descriptive = [\n",
    "    'released_month',\n",
    "    'released_day',\n",
    "    'bpm',\n",
    "    'danceability_%',\n",
    "    'valence_%',\n",
    "    'energy_%',\n",
    "    'acousticness_%',\n",
    "    'instrumentalness_%',\n",
    "    'liveness_%',\n",
    "    'speechiness_%',\n",
    "    'key_A#',\n",
    "    'key_B',\n",
    "    'key_C#',\n",
    "    'key_D',\n",
    "    'key_D#',\n",
    "    'key_E',\n",
    "    'key_F',\n",
    "    'key_F#',\n",
    "    'key_G',\n",
    "    'key_G#',\n",
    "    'mode_Minor'\n",
    "]\n",
    "clean_numeric = clean_numeric[descriptive]\n",
    "\n",
    "\n",
    "scaler = StandardScaler()\n",
    "scaled_data = scaler.fit_transform(clean_numeric)\n",
    "X = pd.DataFrame(scaled_data, columns=clean_numeric.columns)"
   ]
  },
  {
   "cell_type": "markdown",
   "metadata": {},
   "source": [
    "# Model selection\n",
    "Time to test some models! Starting with classification problems."
   ]
  },
  {
   "cell_type": "code",
   "execution_count": 14,
   "metadata": {},
   "outputs": [],
   "source": [
    "from sklearn.model_selection import train_test_split, cross_val_score\n",
    "X = clean_numeric\n",
    "y_cat = data_non_null['streams_bin']\n",
    "y_cont = data_non_null['streams']"
   ]
  },
  {
   "cell_type": "code",
   "execution_count": 15,
   "metadata": {},
   "outputs": [],
   "source": [
    "def get_max_coef(model_instance, classifier=True):\n",
    "    \"\"\"Return coefficient with highest positive or negative correlation\n",
    "\n",
    "    Args:\n",
    "        model_instance (sklearn model instance): a fitted estimator from sklearn\n",
    "        classifier (boolean): True if sklearn instance is a classifier model\n",
    "\n",
    "    Returns:\n",
    "        tuple: returns the feature name and corresponding coefficient value\n",
    "    \"\"\"\n",
    "    num_features = np.shape(model_instance.coef_)[classifier]\n",
    "    coef = pd.Series(\n",
    "        data=(model_instance.coef_).reshape(num_features,),\n",
    "        index=model_instance.feature_names_in_).sort_values(ascending=False)\n",
    "    return (abs(coef).idxmax(), coef[abs(coef).idxmax()])"
   ]
  },
  {
   "cell_type": "code",
   "execution_count": 16,
   "metadata": {},
   "outputs": [
    {
     "name": "stdout",
     "output_type": "stream",
     "text": [
      "Logistic Regression\n",
      "accuracy score: 0.60\n",
      "Top coefficient value\n",
      " key_A# -0.6993077741659691\n",
      "\n",
      "Ridge Classifier\n",
      "accuracy score: 0.60\n",
      "Top coefficient value\n",
      " key_A# -0.4208615185066132\n",
      "\n",
      "SGD Classifier\n",
      "accuracy score: 0.66\n",
      "Top coefficient value\n",
      " key_C# -101.44194670466887\n",
      "\n",
      "K Neighbors Classifier\n",
      "accuracy score: 0.59\n",
      "\n",
      "Decision Tree Classifier\n",
      "accuracy score: 0.64\n",
      "\n",
      "Random Forest Classifier\n",
      "accuracy score: 0.63\n",
      "\n",
      "Gradient Boosting Classifier\n",
      "accuracy score: 0.63\n",
      "\n",
      "SVM Classifier\n",
      "accuracy score: 0.65\n"
     ]
    }
   ],
   "source": [
    "from sklearn import linear_model\n",
    "\n",
    "X_train, X_test, y_train, y_test = train_test_split(X, y_cat)\n",
    "\n",
    "logr = linear_model.LogisticRegression(max_iter=(10000))\n",
    "logr.fit(X_train, y_train)\n",
    "\n",
    "print('Logistic Regression')\n",
    "print(f'accuracy score: {logr.score(X_test, y_test):.2f}')\n",
    "idx, amt = get_max_coef(logr)\n",
    "print(\n",
    "    'Top coefficient value\\n',\n",
    "    idx, amt\n",
    ")\n",
    "\n",
    "ridc = linear_model.RidgeClassifier()\n",
    "ridc.fit(X_train, y_train)\n",
    "\n",
    "print('\\nRidge Classifier')\n",
    "print(f'accuracy score: {ridc.score(X_test, y_test):.2f}')\n",
    "idx, amt = get_max_coef(ridc)\n",
    "print(\n",
    "    'Top coefficient value\\n',\n",
    "    idx, amt\n",
    ")\n",
    "\n",
    "sgdc = linear_model.SGDClassifier()\n",
    "sgdc.fit(X_train, y_train)\n",
    "\n",
    "print('\\nSGD Classifier')\n",
    "print(f'accuracy score: {sgdc.score(X_test, y_test):.2f}')\n",
    "idx, amt = get_max_coef(sgdc)\n",
    "print(\n",
    "    'Top coefficient value\\n',\n",
    "    idx, amt\n",
    ")\n",
    "\n",
    "from sklearn import neighbors\n",
    "\n",
    "knnc = neighbors.KNeighborsClassifier()\n",
    "knnc.fit(X_train, y_train)\n",
    "\n",
    "print('\\nK Neighbors Classifier')\n",
    "print(f'accuracy score: {knnc.score(X_test, y_test):.2f}')\n",
    "\n",
    "from sklearn import tree\n",
    "\n",
    "dt = tree.DecisionTreeClassifier(\n",
    "    criterion='entropy',\n",
    "    max_depth=4)\n",
    "dt.fit(X_train, y_train)\n",
    "\n",
    "print('\\nDecision Tree Classifier')\n",
    "print(f'accuracy score: {dt.score(X_test, y_test):.2f}')\n",
    "\n",
    "from sklearn import ensemble\n",
    "\n",
    "rf = ensemble.RandomForestClassifier()\n",
    "rf.fit(X_train, y_train)\n",
    "\n",
    "print('\\nRandom Forest Classifier')\n",
    "print(f'accuracy score: {rf.score(X_test, y_test):.2f}')\n",
    "\n",
    "gbc = ensemble.GradientBoostingClassifier()\n",
    "gbc.fit(X_train, y_train)\n",
    "\n",
    "print('\\nGradient Boosting Classifier')\n",
    "print(f'accuracy score: {gbc.score(X_test, y_test):.2f}')\n",
    "\n",
    "from sklearn import svm\n",
    "\n",
    "svmc = svm.SVC()\n",
    "svmc.fit(X_train, y_train)\n",
    "\n",
    "print('\\nSVM Classifier')\n",
    "print(f'accuracy score: {svmc.score(X_test, y_test):.2f}')"
   ]
  },
  {
   "cell_type": "markdown",
   "metadata": {},
   "source": [
    "### Random Forest Classifier shows the best performance."
   ]
  },
  {
   "cell_type": "markdown",
   "metadata": {},
   "source": [
    "## Now regressors\n"
   ]
  },
  {
   "cell_type": "code",
   "execution_count": 17,
   "metadata": {},
   "outputs": [
    {
     "name": "stdout",
     "output_type": "stream",
     "text": [
      "\n",
      "Linear Regression\n",
      "accuracy score: 0.00\n",
      "Top coefficient value\n",
      " key_D# 0.43118491119927066\n",
      "\n",
      "Ridge Regression\n",
      "accuracy score: 0.00\n",
      "Top coefficient value\n",
      " key_D# 0.3749860690779574\n",
      "\n",
      "SGD Regression\n",
      "accuracy score: -68873012543681979379351552.00\n",
      "Top coefficient value\n",
      " key_D -98177505518.56024\n",
      "\n",
      "K Neighbors Regression\n",
      "accuracy score: -0.17\n",
      "\n",
      "Decision Tree Regression\n",
      "accuracy score: 0.02\n",
      "\n",
      "Random Forest Regression\n",
      "accuracy score: 0.14\n",
      "\n",
      "Gradient Boosting Regression\n",
      "accuracy score: -0.04\n",
      "\n",
      "SVM Regression\n",
      "accuracy score: 0.00\n"
     ]
    }
   ],
   "source": [
    "X_train, X_test, y_train, y_test = train_test_split(X, y_cont)\n",
    "\n",
    "linr = linear_model.LinearRegression()\n",
    "linr.fit(X_train, y_train)\n",
    "\n",
    "print('\\nLinear Regression')\n",
    "print(f'accuracy score: {linr.score(X_test, y_test):.2f}')\n",
    "idx, amt = get_max_coef(linr, classifier=False)\n",
    "print(\n",
    "    'Top coefficient value\\n',\n",
    "    idx, amt\n",
    ")\n",
    "\n",
    "ridr = linear_model.Ridge()\n",
    "ridr.fit(X_train, y_train)\n",
    "\n",
    "print('\\nRidge Regression')\n",
    "print(f'accuracy score: {ridr.score(X_test, y_test):.2f}')\n",
    "idx, amt = get_max_coef(ridr, classifier=False)\n",
    "print(\n",
    "    'Top coefficient value\\n',\n",
    "    idx, amt\n",
    ")\n",
    "\n",
    "sgdr = linear_model.SGDRegressor()\n",
    "sgdr.fit(X_train, y_train)\n",
    "\n",
    "print('\\nSGD Regression')\n",
    "print(f'accuracy score: {sgdr.score(X_test, y_test):.2f}')\n",
    "idx, amt = get_max_coef(sgdr, classifier=False)\n",
    "print(\n",
    "    'Top coefficient value\\n',\n",
    "    idx, amt\n",
    ")\n",
    "\n",
    "\n",
    "knnr = neighbors.KNeighborsRegressor()\n",
    "knnr.fit(X_train, y_train)\n",
    "\n",
    "print('\\nK Neighbors Regression')\n",
    "print(f'accuracy score: {knnr.score(X_test, y_test):.2f}')\n",
    "\n",
    "\n",
    "dtr = tree.DecisionTreeRegressor(\n",
    "    max_depth=4)\n",
    "dtr.fit(X_train, y_train)\n",
    "\n",
    "print('\\nDecision Tree Regression')\n",
    "print(f'accuracy score: {dtr.score(X_test, y_test):.2f}')\n",
    "\n",
    "\n",
    "rfr = ensemble.RandomForestRegressor(\n",
    "    max_depth=4)\n",
    "rfr.fit(X_train, y_train)\n",
    "\n",
    "print('\\nRandom Forest Regression')\n",
    "print(f'accuracy score: {rfr.score(X_test, y_test):.2f}')\n",
    "\n",
    "gbr = ensemble.GradientBoostingRegressor(\n",
    "    n_estimators=1000,\n",
    "    max_depth=2\n",
    ")\n",
    "gbr.fit(X_train, y_train)\n",
    "\n",
    "print('\\nGradient Boosting Regression')\n",
    "print(f'accuracy score: {gbr.score(X_test, y_test):.2f}')\n",
    "\n",
    "\n",
    "svmr = svm.SVR()\n",
    "svmr.fit(X_train, y_train)\n",
    "\n",
    "print('\\nSVM Regression')\n",
    "print(f'accuracy score: {svmr.score(X_test, y_test):.2f}')"
   ]
  },
  {
   "cell_type": "markdown",
   "metadata": {},
   "source": [
    "### All quite bad. Lets proceed with a classification model."
   ]
  },
  {
   "cell_type": "code",
   "execution_count": 18,
   "metadata": {},
   "outputs": [
    {
     "name": "stdout",
     "output_type": "stream",
     "text": [
      "Confusion Matrix\n",
      "[[95 26]\n",
      " [52 31]]\n"
     ]
    }
   ],
   "source": [
    "from sklearn.metrics import confusion_matrix\n",
    "\n",
    "X_train, X_test, y_train, y_test = train_test_split(X, y_cat)\n",
    "\n",
    "rf = ensemble.RandomForestClassifier()\n",
    "rf.fit(X_train, y_train)\n",
    "\n",
    "y_pred = rf.predict(X_test)\n",
    "confusion = confusion_matrix(y_test, y_pred, labels=['low', 'high'])\n",
    "print('Confusion Matrix')\n",
    "print(confusion)\n",
    "\n",
    "# High in False positives"
   ]
  },
  {
   "cell_type": "code",
   "execution_count": 19,
   "metadata": {},
   "outputs": [
    {
     "name": "stdout",
     "output_type": "stream",
     "text": [
      "              precision    recall  f1-score   support\n",
      "\n",
      "         low       0.54      0.37      0.44        83\n",
      "        high       0.65      0.79      0.71       121\n",
      "\n",
      "    accuracy                           0.62       204\n",
      "   macro avg       0.60      0.58      0.58       204\n",
      "weighted avg       0.60      0.62      0.60       204\n",
      "\n"
     ]
    }
   ],
   "source": [
    "from sklearn.metrics import classification_report\n",
    "report = classification_report(y_test, y_pred, target_names=['low', 'high'])\n",
    "print(report)"
   ]
  },
  {
   "cell_type": "markdown",
   "metadata": {},
   "source": [
    "### Lets perform some parameter tuning to attempt to reduce the false positives.\n",
    "### We can begin with randomized search"
   ]
  },
  {
   "cell_type": "code",
   "execution_count": 20,
   "metadata": {},
   "outputs": [],
   "source": [
    "from sklearn.model_selection import RandomizedSearchCV\n",
    "# first we do a big search to see what the best parameters may be\n",
    "\n",
    "# number of trees in the forest\n",
    "n_estimators = [int(x) for x in np.linspace(10, 2000, 30)]\n",
    "\n",
    "# criterion function used to measure the quality of a split\n",
    "criterion = ['gini', 'entropy', 'log_loss']\n",
    "\n",
    "# maximum depth per tree\n",
    "max_depth = [int(x) for x in np.linspace(1, 30, 10)]\n",
    "max_depth.append(None)\n",
    "\n",
    "# minimum samples required to split a node\n",
    "min_samples_split = [int(x) for x in np.linspace(2, 30, 10)]\n",
    "\n",
    "# minimum number of samples at each leaf\n",
    "min_samples_leaf = [x for x in range(1, 10)]\n",
    "\n",
    "# features to consider at every split\n",
    "max_features = ['sqrt', 'log2', None]\n",
    "\n",
    "# method of selecting samples\n",
    "bootstrap = [True, False]\n",
    "\n",
    "# Create the random grid\n",
    "random_grid = {\n",
    "    'n_estimators': n_estimators,\n",
    "    'criterion': criterion,\n",
    "    'max_depth': max_depth,\n",
    "    'min_samples_split': min_samples_split,\n",
    "    'min_samples_leaf': min_samples_leaf,\n",
    "    'max_features': max_features,\n",
    "    'bootstrap': bootstrap\n",
    "    }"
   ]
  },
  {
   "cell_type": "code",
   "execution_count": 21,
   "metadata": {},
   "outputs": [
    {
     "name": "stdout",
     "output_type": "stream",
     "text": [
      "Fitting 3 folds for each of 100 candidates, totalling 300 fits\n"
     ]
    },
    {
     "data": {
      "text/html": [
       "<style>#sk-container-id-1 {color: black;}#sk-container-id-1 pre{padding: 0;}#sk-container-id-1 div.sk-toggleable {background-color: white;}#sk-container-id-1 label.sk-toggleable__label {cursor: pointer;display: block;width: 100%;margin-bottom: 0;padding: 0.3em;box-sizing: border-box;text-align: center;}#sk-container-id-1 label.sk-toggleable__label-arrow:before {content: \"▸\";float: left;margin-right: 0.25em;color: #696969;}#sk-container-id-1 label.sk-toggleable__label-arrow:hover:before {color: black;}#sk-container-id-1 div.sk-estimator:hover label.sk-toggleable__label-arrow:before {color: black;}#sk-container-id-1 div.sk-toggleable__content {max-height: 0;max-width: 0;overflow: hidden;text-align: left;background-color: #f0f8ff;}#sk-container-id-1 div.sk-toggleable__content pre {margin: 0.2em;color: black;border-radius: 0.25em;background-color: #f0f8ff;}#sk-container-id-1 input.sk-toggleable__control:checked~div.sk-toggleable__content {max-height: 200px;max-width: 100%;overflow: auto;}#sk-container-id-1 input.sk-toggleable__control:checked~label.sk-toggleable__label-arrow:before {content: \"▾\";}#sk-container-id-1 div.sk-estimator input.sk-toggleable__control:checked~label.sk-toggleable__label {background-color: #d4ebff;}#sk-container-id-1 div.sk-label input.sk-toggleable__control:checked~label.sk-toggleable__label {background-color: #d4ebff;}#sk-container-id-1 input.sk-hidden--visually {border: 0;clip: rect(1px 1px 1px 1px);clip: rect(1px, 1px, 1px, 1px);height: 1px;margin: -1px;overflow: hidden;padding: 0;position: absolute;width: 1px;}#sk-container-id-1 div.sk-estimator {font-family: monospace;background-color: #f0f8ff;border: 1px dotted black;border-radius: 0.25em;box-sizing: border-box;margin-bottom: 0.5em;}#sk-container-id-1 div.sk-estimator:hover {background-color: #d4ebff;}#sk-container-id-1 div.sk-parallel-item::after {content: \"\";width: 100%;border-bottom: 1px solid gray;flex-grow: 1;}#sk-container-id-1 div.sk-label:hover label.sk-toggleable__label {background-color: #d4ebff;}#sk-container-id-1 div.sk-serial::before {content: \"\";position: absolute;border-left: 1px solid gray;box-sizing: border-box;top: 0;bottom: 0;left: 50%;z-index: 0;}#sk-container-id-1 div.sk-serial {display: flex;flex-direction: column;align-items: center;background-color: white;padding-right: 0.2em;padding-left: 0.2em;position: relative;}#sk-container-id-1 div.sk-item {position: relative;z-index: 1;}#sk-container-id-1 div.sk-parallel {display: flex;align-items: stretch;justify-content: center;background-color: white;position: relative;}#sk-container-id-1 div.sk-item::before, #sk-container-id-1 div.sk-parallel-item::before {content: \"\";position: absolute;border-left: 1px solid gray;box-sizing: border-box;top: 0;bottom: 0;left: 50%;z-index: -1;}#sk-container-id-1 div.sk-parallel-item {display: flex;flex-direction: column;z-index: 1;position: relative;background-color: white;}#sk-container-id-1 div.sk-parallel-item:first-child::after {align-self: flex-end;width: 50%;}#sk-container-id-1 div.sk-parallel-item:last-child::after {align-self: flex-start;width: 50%;}#sk-container-id-1 div.sk-parallel-item:only-child::after {width: 0;}#sk-container-id-1 div.sk-dashed-wrapped {border: 1px dashed gray;margin: 0 0.4em 0.5em 0.4em;box-sizing: border-box;padding-bottom: 0.4em;background-color: white;}#sk-container-id-1 div.sk-label label {font-family: monospace;font-weight: bold;display: inline-block;line-height: 1.2em;}#sk-container-id-1 div.sk-label-container {text-align: center;}#sk-container-id-1 div.sk-container {/* jupyter's `normalize.less` sets `[hidden] { display: none; }` but bootstrap.min.css set `[hidden] { display: none !important; }` so we also need the `!important` here to be able to override the default hidden behavior on the sphinx rendered scikit-learn.org. See: https://github.com/scikit-learn/scikit-learn/issues/21755 */display: inline-block !important;position: relative;}#sk-container-id-1 div.sk-text-repr-fallback {display: none;}</style><div id=\"sk-container-id-1\" class=\"sk-top-container\"><div class=\"sk-text-repr-fallback\"><pre>RandomizedSearchCV(cv=3, estimator=RandomForestClassifier(), n_iter=100,\n",
       "                   n_jobs=-1,\n",
       "                   param_distributions={&#x27;bootstrap&#x27;: [True, False],\n",
       "                                        &#x27;criterion&#x27;: [&#x27;gini&#x27;, &#x27;entropy&#x27;,\n",
       "                                                      &#x27;log_loss&#x27;],\n",
       "                                        &#x27;max_depth&#x27;: [1, 4, 7, 10, 13, 17, 20,\n",
       "                                                      23, 26, 30, None],\n",
       "                                        &#x27;max_features&#x27;: [&#x27;sqrt&#x27;, &#x27;log2&#x27;, None],\n",
       "                                        &#x27;min_samples_leaf&#x27;: [1, 2, 3, 4, 5, 6,\n",
       "                                                             7, 8, 9],\n",
       "                                        &#x27;min_samples_split&#x27;: [2, 5, 8, 11, 14,\n",
       "                                                              17, 20, 23, 26,\n",
       "                                                              30],\n",
       "                                        &#x27;n_estimators&#x27;: [10, 78, 147, 215, 284,\n",
       "                                                         353, 421, 490, 558,\n",
       "                                                         627, 696, 764, 833,\n",
       "                                                         902, 970, 1039, 1107,\n",
       "                                                         1176, 1245, 1313, 1382,\n",
       "                                                         1451, 1519, 1588, 1656,\n",
       "                                                         1725, 1794, 1862, 1931,\n",
       "                                                         2000]},\n",
       "                   verbose=2)</pre><b>In a Jupyter environment, please rerun this cell to show the HTML representation or trust the notebook. <br />On GitHub, the HTML representation is unable to render, please try loading this page with nbviewer.org.</b></div><div class=\"sk-container\" hidden><div class=\"sk-item sk-dashed-wrapped\"><div class=\"sk-label-container\"><div class=\"sk-label sk-toggleable\"><input class=\"sk-toggleable__control sk-hidden--visually\" id=\"sk-estimator-id-1\" type=\"checkbox\" ><label for=\"sk-estimator-id-1\" class=\"sk-toggleable__label sk-toggleable__label-arrow\">RandomizedSearchCV</label><div class=\"sk-toggleable__content\"><pre>RandomizedSearchCV(cv=3, estimator=RandomForestClassifier(), n_iter=100,\n",
       "                   n_jobs=-1,\n",
       "                   param_distributions={&#x27;bootstrap&#x27;: [True, False],\n",
       "                                        &#x27;criterion&#x27;: [&#x27;gini&#x27;, &#x27;entropy&#x27;,\n",
       "                                                      &#x27;log_loss&#x27;],\n",
       "                                        &#x27;max_depth&#x27;: [1, 4, 7, 10, 13, 17, 20,\n",
       "                                                      23, 26, 30, None],\n",
       "                                        &#x27;max_features&#x27;: [&#x27;sqrt&#x27;, &#x27;log2&#x27;, None],\n",
       "                                        &#x27;min_samples_leaf&#x27;: [1, 2, 3, 4, 5, 6,\n",
       "                                                             7, 8, 9],\n",
       "                                        &#x27;min_samples_split&#x27;: [2, 5, 8, 11, 14,\n",
       "                                                              17, 20, 23, 26,\n",
       "                                                              30],\n",
       "                                        &#x27;n_estimators&#x27;: [10, 78, 147, 215, 284,\n",
       "                                                         353, 421, 490, 558,\n",
       "                                                         627, 696, 764, 833,\n",
       "                                                         902, 970, 1039, 1107,\n",
       "                                                         1176, 1245, 1313, 1382,\n",
       "                                                         1451, 1519, 1588, 1656,\n",
       "                                                         1725, 1794, 1862, 1931,\n",
       "                                                         2000]},\n",
       "                   verbose=2)</pre></div></div></div><div class=\"sk-parallel\"><div class=\"sk-parallel-item\"><div class=\"sk-item\"><div class=\"sk-label-container\"><div class=\"sk-label sk-toggleable\"><input class=\"sk-toggleable__control sk-hidden--visually\" id=\"sk-estimator-id-2\" type=\"checkbox\" ><label for=\"sk-estimator-id-2\" class=\"sk-toggleable__label sk-toggleable__label-arrow\">estimator: RandomForestClassifier</label><div class=\"sk-toggleable__content\"><pre>RandomForestClassifier()</pre></div></div></div><div class=\"sk-serial\"><div class=\"sk-item\"><div class=\"sk-estimator sk-toggleable\"><input class=\"sk-toggleable__control sk-hidden--visually\" id=\"sk-estimator-id-3\" type=\"checkbox\" ><label for=\"sk-estimator-id-3\" class=\"sk-toggleable__label sk-toggleable__label-arrow\">RandomForestClassifier</label><div class=\"sk-toggleable__content\"><pre>RandomForestClassifier()</pre></div></div></div></div></div></div></div></div></div></div>"
      ],
      "text/plain": [
       "RandomizedSearchCV(cv=3, estimator=RandomForestClassifier(), n_iter=100,\n",
       "                   n_jobs=-1,\n",
       "                   param_distributions={'bootstrap': [True, False],\n",
       "                                        'criterion': ['gini', 'entropy',\n",
       "                                                      'log_loss'],\n",
       "                                        'max_depth': [1, 4, 7, 10, 13, 17, 20,\n",
       "                                                      23, 26, 30, None],\n",
       "                                        'max_features': ['sqrt', 'log2', None],\n",
       "                                        'min_samples_leaf': [1, 2, 3, 4, 5, 6,\n",
       "                                                             7, 8, 9],\n",
       "                                        'min_samples_split': [2, 5, 8, 11, 14,\n",
       "                                                              17, 20, 23, 26,\n",
       "                                                              30],\n",
       "                                        'n_estimators': [10, 78, 147, 215, 284,\n",
       "                                                         353, 421, 490, 558,\n",
       "                                                         627, 696, 764, 833,\n",
       "                                                         902, 970, 1039, 1107,\n",
       "                                                         1176, 1245, 1313, 1382,\n",
       "                                                         1451, 1519, 1588, 1656,\n",
       "                                                         1725, 1794, 1862, 1931,\n",
       "                                                         2000]},\n",
       "                   verbose=2)"
      ]
     },
     "execution_count": 21,
     "metadata": {},
     "output_type": "execute_result"
    }
   ],
   "source": [
    "rf = ensemble.RandomForestClassifier()\n",
    "rfcv = RandomizedSearchCV(\n",
    "    estimator=rf,\n",
    "    param_distributions=random_grid,\n",
    "    n_iter=100,\n",
    "    cv=3,\n",
    "    verbose=2,\n",
    "    n_jobs=-1)\n",
    "\n",
    "rfcv.fit(X_train, y_train)"
   ]
  },
  {
   "cell_type": "code",
   "execution_count": 22,
   "metadata": {},
   "outputs": [
    {
     "data": {
      "text/plain": [
       "{'n_estimators': 696,\n",
       " 'min_samples_split': 30,\n",
       " 'min_samples_leaf': 5,\n",
       " 'max_features': None,\n",
       " 'max_depth': 1,\n",
       " 'criterion': 'gini',\n",
       " 'bootstrap': False}"
      ]
     },
     "execution_count": 22,
     "metadata": {},
     "output_type": "execute_result"
    }
   ],
   "source": [
    "rfcv.best_params_"
   ]
  },
  {
   "cell_type": "markdown",
   "metadata": {},
   "source": [
    "With these values we can begin a more focused grid search"
   ]
  },
  {
   "cell_type": "code",
   "execution_count": 23,
   "metadata": {},
   "outputs": [],
   "source": [
    "from sklearn.model_selection import GridSearchCV\n",
    "# create the parameter grid based on the results of random search \n",
    "param_grid = {\n",
    "    'n_estimators': [1400, 1500, 1600, 5000],\n",
    "    'min_samples_split': [15, 17, 19],\n",
    "    'min_samples_leaf': [4, 6, 8],\n",
    "    'max_features': [None, 1, 2],\n",
    "    'max_depth': [3, 5, 7, 9],\n",
    "    'bootstrap': [True]    \n",
    "}\n",
    "\n",
    "rf = ensemble.RandomForestClassifier()\n",
    "# Instantiate the grid search model\n",
    "grid_search = GridSearchCV(\n",
    "    estimator=rf,\n",
    "    param_grid=param_grid, \n",
    "    cv=3,\n",
    "    n_jobs=-1,\n",
    "    verbose=2)"
   ]
  },
  {
   "cell_type": "code",
   "execution_count": 24,
   "metadata": {},
   "outputs": [
    {
     "name": "stdout",
     "output_type": "stream",
     "text": [
      "Fitting 3 folds for each of 432 candidates, totalling 1296 fits\n"
     ]
    },
    {
     "data": {
      "text/html": [
       "<style>#sk-container-id-2 {color: black;}#sk-container-id-2 pre{padding: 0;}#sk-container-id-2 div.sk-toggleable {background-color: white;}#sk-container-id-2 label.sk-toggleable__label {cursor: pointer;display: block;width: 100%;margin-bottom: 0;padding: 0.3em;box-sizing: border-box;text-align: center;}#sk-container-id-2 label.sk-toggleable__label-arrow:before {content: \"▸\";float: left;margin-right: 0.25em;color: #696969;}#sk-container-id-2 label.sk-toggleable__label-arrow:hover:before {color: black;}#sk-container-id-2 div.sk-estimator:hover label.sk-toggleable__label-arrow:before {color: black;}#sk-container-id-2 div.sk-toggleable__content {max-height: 0;max-width: 0;overflow: hidden;text-align: left;background-color: #f0f8ff;}#sk-container-id-2 div.sk-toggleable__content pre {margin: 0.2em;color: black;border-radius: 0.25em;background-color: #f0f8ff;}#sk-container-id-2 input.sk-toggleable__control:checked~div.sk-toggleable__content {max-height: 200px;max-width: 100%;overflow: auto;}#sk-container-id-2 input.sk-toggleable__control:checked~label.sk-toggleable__label-arrow:before {content: \"▾\";}#sk-container-id-2 div.sk-estimator input.sk-toggleable__control:checked~label.sk-toggleable__label {background-color: #d4ebff;}#sk-container-id-2 div.sk-label input.sk-toggleable__control:checked~label.sk-toggleable__label {background-color: #d4ebff;}#sk-container-id-2 input.sk-hidden--visually {border: 0;clip: rect(1px 1px 1px 1px);clip: rect(1px, 1px, 1px, 1px);height: 1px;margin: -1px;overflow: hidden;padding: 0;position: absolute;width: 1px;}#sk-container-id-2 div.sk-estimator {font-family: monospace;background-color: #f0f8ff;border: 1px dotted black;border-radius: 0.25em;box-sizing: border-box;margin-bottom: 0.5em;}#sk-container-id-2 div.sk-estimator:hover {background-color: #d4ebff;}#sk-container-id-2 div.sk-parallel-item::after {content: \"\";width: 100%;border-bottom: 1px solid gray;flex-grow: 1;}#sk-container-id-2 div.sk-label:hover label.sk-toggleable__label {background-color: #d4ebff;}#sk-container-id-2 div.sk-serial::before {content: \"\";position: absolute;border-left: 1px solid gray;box-sizing: border-box;top: 0;bottom: 0;left: 50%;z-index: 0;}#sk-container-id-2 div.sk-serial {display: flex;flex-direction: column;align-items: center;background-color: white;padding-right: 0.2em;padding-left: 0.2em;position: relative;}#sk-container-id-2 div.sk-item {position: relative;z-index: 1;}#sk-container-id-2 div.sk-parallel {display: flex;align-items: stretch;justify-content: center;background-color: white;position: relative;}#sk-container-id-2 div.sk-item::before, #sk-container-id-2 div.sk-parallel-item::before {content: \"\";position: absolute;border-left: 1px solid gray;box-sizing: border-box;top: 0;bottom: 0;left: 50%;z-index: -1;}#sk-container-id-2 div.sk-parallel-item {display: flex;flex-direction: column;z-index: 1;position: relative;background-color: white;}#sk-container-id-2 div.sk-parallel-item:first-child::after {align-self: flex-end;width: 50%;}#sk-container-id-2 div.sk-parallel-item:last-child::after {align-self: flex-start;width: 50%;}#sk-container-id-2 div.sk-parallel-item:only-child::after {width: 0;}#sk-container-id-2 div.sk-dashed-wrapped {border: 1px dashed gray;margin: 0 0.4em 0.5em 0.4em;box-sizing: border-box;padding-bottom: 0.4em;background-color: white;}#sk-container-id-2 div.sk-label label {font-family: monospace;font-weight: bold;display: inline-block;line-height: 1.2em;}#sk-container-id-2 div.sk-label-container {text-align: center;}#sk-container-id-2 div.sk-container {/* jupyter's `normalize.less` sets `[hidden] { display: none; }` but bootstrap.min.css set `[hidden] { display: none !important; }` so we also need the `!important` here to be able to override the default hidden behavior on the sphinx rendered scikit-learn.org. See: https://github.com/scikit-learn/scikit-learn/issues/21755 */display: inline-block !important;position: relative;}#sk-container-id-2 div.sk-text-repr-fallback {display: none;}</style><div id=\"sk-container-id-2\" class=\"sk-top-container\"><div class=\"sk-text-repr-fallback\"><pre>GridSearchCV(cv=3, estimator=RandomForestClassifier(), n_jobs=-1,\n",
       "             param_grid={&#x27;bootstrap&#x27;: [True], &#x27;max_depth&#x27;: [3, 5, 7, 9],\n",
       "                         &#x27;max_features&#x27;: [None, 1, 2],\n",
       "                         &#x27;min_samples_leaf&#x27;: [4, 6, 8],\n",
       "                         &#x27;min_samples_split&#x27;: [15, 17, 19],\n",
       "                         &#x27;n_estimators&#x27;: [1400, 1500, 1600, 5000]},\n",
       "             verbose=2)</pre><b>In a Jupyter environment, please rerun this cell to show the HTML representation or trust the notebook. <br />On GitHub, the HTML representation is unable to render, please try loading this page with nbviewer.org.</b></div><div class=\"sk-container\" hidden><div class=\"sk-item sk-dashed-wrapped\"><div class=\"sk-label-container\"><div class=\"sk-label sk-toggleable\"><input class=\"sk-toggleable__control sk-hidden--visually\" id=\"sk-estimator-id-4\" type=\"checkbox\" ><label for=\"sk-estimator-id-4\" class=\"sk-toggleable__label sk-toggleable__label-arrow\">GridSearchCV</label><div class=\"sk-toggleable__content\"><pre>GridSearchCV(cv=3, estimator=RandomForestClassifier(), n_jobs=-1,\n",
       "             param_grid={&#x27;bootstrap&#x27;: [True], &#x27;max_depth&#x27;: [3, 5, 7, 9],\n",
       "                         &#x27;max_features&#x27;: [None, 1, 2],\n",
       "                         &#x27;min_samples_leaf&#x27;: [4, 6, 8],\n",
       "                         &#x27;min_samples_split&#x27;: [15, 17, 19],\n",
       "                         &#x27;n_estimators&#x27;: [1400, 1500, 1600, 5000]},\n",
       "             verbose=2)</pre></div></div></div><div class=\"sk-parallel\"><div class=\"sk-parallel-item\"><div class=\"sk-item\"><div class=\"sk-label-container\"><div class=\"sk-label sk-toggleable\"><input class=\"sk-toggleable__control sk-hidden--visually\" id=\"sk-estimator-id-5\" type=\"checkbox\" ><label for=\"sk-estimator-id-5\" class=\"sk-toggleable__label sk-toggleable__label-arrow\">estimator: RandomForestClassifier</label><div class=\"sk-toggleable__content\"><pre>RandomForestClassifier()</pre></div></div></div><div class=\"sk-serial\"><div class=\"sk-item\"><div class=\"sk-estimator sk-toggleable\"><input class=\"sk-toggleable__control sk-hidden--visually\" id=\"sk-estimator-id-6\" type=\"checkbox\" ><label for=\"sk-estimator-id-6\" class=\"sk-toggleable__label sk-toggleable__label-arrow\">RandomForestClassifier</label><div class=\"sk-toggleable__content\"><pre>RandomForestClassifier()</pre></div></div></div></div></div></div></div></div></div></div>"
      ],
      "text/plain": [
       "GridSearchCV(cv=3, estimator=RandomForestClassifier(), n_jobs=-1,\n",
       "             param_grid={'bootstrap': [True], 'max_depth': [3, 5, 7, 9],\n",
       "                         'max_features': [None, 1, 2],\n",
       "                         'min_samples_leaf': [4, 6, 8],\n",
       "                         'min_samples_split': [15, 17, 19],\n",
       "                         'n_estimators': [1400, 1500, 1600, 5000]},\n",
       "             verbose=2)"
      ]
     },
     "execution_count": 24,
     "metadata": {},
     "output_type": "execute_result"
    }
   ],
   "source": [
    "grid_search.fit(X_train, y_train)"
   ]
  },
  {
   "cell_type": "code",
   "execution_count": 25,
   "metadata": {},
   "outputs": [
    {
     "data": {
      "text/plain": [
       "{'bootstrap': True,\n",
       " 'max_depth': 9,\n",
       " 'max_features': 2,\n",
       " 'min_samples_leaf': 8,\n",
       " 'min_samples_split': 17,\n",
       " 'n_estimators': 5000}"
      ]
     },
     "execution_count": 25,
     "metadata": {},
     "output_type": "execute_result"
    }
   ],
   "source": [
    "grid_search.best_params_"
   ]
  },
  {
   "cell_type": "code",
   "execution_count": 26,
   "metadata": {},
   "outputs": [
    {
     "name": "stdout",
     "output_type": "stream",
     "text": [
      "\n",
      "Random Forest Classifier\n",
      "new accuracy score: 0.63\n",
      "original accuracy score: 0.60\n",
      "new confusion Matrix\n",
      "[[113   8]\n",
      " [ 68  15]]\n",
      "original confusion Matrix\n",
      "[[95 26]\n",
      " [55 28]]\n"
     ]
    }
   ],
   "source": [
    "rf = ensemble.RandomForestClassifier(**grid_search.best_params_)\n",
    "rf_original = ensemble.RandomForestClassifier()\n",
    "\n",
    "rf.fit(X_train, y_train)\n",
    "rf_original.fit(X_train, y_train)\n",
    "\n",
    "print('\\nRandom Forest Classifier')\n",
    "print(f'new accuracy score: {rf.score(X_test, y_test):.2f}')\n",
    "print(f'original accuracy score: {rf_original.score(X_test, y_test):.2f}')\n",
    "\n",
    "y_pred = rf.predict(X_test)\n",
    "y_pred_original = rf_original.predict(X_test)\n",
    "confusion = confusion_matrix(y_test, y_pred, labels=['low', 'high'])\n",
    "print('new confusion Matrix')\n",
    "print(confusion)\n",
    "confusion = confusion_matrix(y_test, y_pred_original, labels=['low', 'high'])\n",
    "print('original confusion Matrix')\n",
    "print(confusion)"
   ]
  },
  {
   "cell_type": "markdown",
   "metadata": {},
   "source": [
    "False positives were reduced after parameter tuning.  \n",
    "In the scenario where we are creating music in hopes of higher streams, then it is reasonable to say that a false positive is more costly than a false negative.  \n",
    "Even though the error remained similar, the reduction of false negatives was a huge improvement."
   ]
  }
 ],
 "metadata": {
  "kernelspec": {
   "display_name": ".venv",
   "language": "python",
   "name": "python3"
  },
  "language_info": {
   "codemirror_mode": {
    "name": "ipython",
    "version": 3
   },
   "file_extension": ".py",
   "mimetype": "text/x-python",
   "name": "python",
   "nbconvert_exporter": "python",
   "pygments_lexer": "ipython3",
   "version": "3.11.4"
  },
  "orig_nbformat": 4
 },
 "nbformat": 4,
 "nbformat_minor": 2
}
